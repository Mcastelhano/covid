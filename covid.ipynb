{
  "nbformat": 4,
  "nbformat_minor": 0,
  "metadata": {
    "colab": {
      "name": "covidSCREAM.ipynb",
      "provenance": [],
      "collapsed_sections": [
        "0cmyDqWqwx1-",
        "y16Z9zJJgHXo",
        "ep1WmZpGHg3Q",
        "WS-ADKiHO7NN",
        "OCyzIKQkm5F3"
      ],
      "toc_visible": true
    },
    "kernelspec": {
      "name": "python3",
      "display_name": "Python 3"
    }
  },
  "cells": [
    {
      "cell_type": "code",
      "metadata": {
        "id": "qkZqTr9rfqdH",
        "colab_type": "code",
        "colab": {}
      },
      "source": [
        "\n",
        "import pandas as pd\n",
        "import csv\n",
        "import chardet\n",
        "import matplotlib.pyplot as plt\n",
        "import seaborn as sns\n",
        "\n",
        "with open('INFLUD-14-07-2020.csv', 'rb') as f:\n",
        "    result = chardet.detect(f.read())  \n",
        "\n",
        "uri = 'INFLUD-14-07-2020.csv'\n",
        "dados = pd.read_csv(uri, delimiter=';', encoding=result['encoding'], error_bad_lines=False, quoting=csv.QUOTE_NONE)\n",
        "'''\n",
        "import requests\n",
        "\n",
        "DATASUS = 'https://s3-sa-east-1.amazonaws.com/ckan.saude.gov.br/SRAG/2020/INFLUD-14-07-2020.csv'\n",
        "\n",
        "dataset = requests.get(DATASUS, allow_redirects=True)\n",
        "\n",
        "#open('datasets/datasus.csv', 'wb').write(dataset.content)\n",
        "\n",
        "dados = pd.DataFrame(dataset)   \n",
        "'''"
      ],
      "execution_count": null,
      "outputs": []
    },
    {
      "cell_type": "markdown",
      "metadata": {
        "id": "0cmyDqWqwx1-",
        "colab_type": "text"
      },
      "source": [
        "### **Relações Raça**"
      ]
    },
    {
      "cell_type": "code",
      "metadata": {
        "id": "Y4LUF556xAmV",
        "colab_type": "code",
        "colab": {}
      },
      "source": [
        "'''\n",
        "1-Branca\n",
        "2-Preta\n",
        "3-Amarela\n",
        "4-Parda\n",
        "5-Indígena\n",
        "9-Ignorado\n",
        "'''\n",
        "\n",
        "dados_raca = {\n",
        "    'etnia' : ['branca', 'preta', 'amarela', 'parda', 'indigena'],\n",
        "    'casos' : [dados.query(\"CS_RACA ==  '1'\").CS_RACA.value_counts().sum(), \n",
        "               dados.query(\"CS_RACA ==  '2'\").CS_RACA.value_counts().sum(), \n",
        "               dados.query(\"CS_RACA ==  '3'\").CS_RACA.value_counts().sum(), \n",
        "               dados.query(\"CS_RACA ==  '4'\").CS_RACA.value_counts().sum(), \n",
        "               dados.query(\"CS_RACA ==  '5'\").CS_RACA.value_counts().sum()]\n",
        "    }\n",
        "\n",
        "\n"
      ],
      "execution_count": 167,
      "outputs": []
    },
    {
      "cell_type": "code",
      "metadata": {
        "id": "YLqwEZqDxvCt",
        "colab_type": "code",
        "colab": {
          "base_uri": "https://localhost:8080/",
          "height": 85
        },
        "outputId": "3d7f1a6b-53f1-4171-8854-2e24b6d6a09c"
      },
      "source": [
        "print('\\n numero de casos com espaço preenchido: ', \n",
        "      sum(dados_raca['casos']), \n",
        "      '\\n numero de casos totais no estudo: ', \n",
        "      len(dados), \n",
        "      '\\n numero de casos com o espaço em branco/ignorado: ', \n",
        "      len(dados) - sum(dados_raca['casos']))"
      ],
      "execution_count": 169,
      "outputs": [
        {
          "output_type": "stream",
          "text": [
            "\n",
            " numero de casos com espaço preenchido:  297397 \n",
            " numero de casos totais no estudo:  435717 \n",
            " numero de casos com o espaço em branco/ignorado:  138320\n"
          ],
          "name": "stdout"
        }
      ]
    },
    {
      "cell_type": "code",
      "metadata": {
        "id": "Svzmej3hzDsq",
        "colab_type": "code",
        "colab": {
          "base_uri": "https://localhost:8080/",
          "height": 330
        },
        "outputId": "050c1ff2-bfaf-403f-97fa-f5774a4ca6ac"
      },
      "source": [
        "dados_racaBAR = sns.barplot(x='etnia', y='casos', data = dados_raca, palette = \"GnBu_d\")\n",
        "dados_racaDF = pd.DataFrame(dados_raca)\n",
        "dados_racaPIE = plt.pie(dados_raca['casos'], labels = dados_raca['etnia'], shadow=True, \n",
        "                radius=1.5, autopct='%.2f', textprops={'fontsize': 14, 'fontfamily': 'helvetica', \n",
        "                'fontweight': 'ultralight', 'color': 'white'})"
      ],
      "execution_count": 171,
      "outputs": [
        {
          "output_type": "display_data",
          "data": {
            "image/png": "[encoded data removed]",
            "text/plain": [
              "<Figure size 432x288 with 1 Axes>"
            ]
          },
          "metadata": {
            "tags": []
          }
        }
      ]
    },
    {
      "cell_type": "code",
      "metadata": {
        "id": "xfTSY0juHx-j",
        "colab_type": "code",
        "colab": {
          "base_uri": "https://localhost:8080/",
          "height": 204
        },
        "outputId": "f38bc2e6-ff87-4942-c9a1-09bb6c18e6f9"
      },
      "source": [
        "dados_racaDF"
      ],
      "execution_count": 172,
      "outputs": [
        {
          "output_type": "execute_result",
          "data": {
            "text/html": [
              "<div>\n",
              "<style scoped>\n",
              "    .dataframe tbody tr th:only-of-type {\n",
              "        vertical-align: middle;\n",
              "    }\n",
              "\n",
              "    .dataframe tbody tr th {\n",
              "        vertical-align: top;\n",
              "    }\n",
              "\n",
              "    .dataframe thead th {\n",
              "        text-align: right;\n",
              "    }\n",
              "</style>\n",
              "<table border=\"1\" class=\"dataframe\">\n",
              "  <thead>\n",
              "    <tr style=\"text-align: right;\">\n",
              "      <th></th>\n",
              "      <th>etnia</th>\n",
              "      <th>casos</th>\n",
              "    </tr>\n",
              "  </thead>\n",
              "  <tbody>\n",
              "    <tr>\n",
              "      <th>0</th>\n",
              "      <td>branca</td>\n",
              "      <td>136744</td>\n",
              "    </tr>\n",
              "    <tr>\n",
              "      <th>1</th>\n",
              "      <td>preta</td>\n",
              "      <td>20374</td>\n",
              "    </tr>\n",
              "    <tr>\n",
              "      <th>2</th>\n",
              "      <td>amarela</td>\n",
              "      <td>3940</td>\n",
              "    </tr>\n",
              "    <tr>\n",
              "      <th>3</th>\n",
              "      <td>parda</td>\n",
              "      <td>135162</td>\n",
              "    </tr>\n",
              "    <tr>\n",
              "      <th>4</th>\n",
              "      <td>indigena</td>\n",
              "      <td>1177</td>\n",
              "    </tr>\n",
              "  </tbody>\n",
              "</table>\n",
              "</div>"
            ],
            "text/plain": [
              "      etnia   casos\n",
              "0    branca  136744\n",
              "1     preta   20374\n",
              "2   amarela    3940\n",
              "3     parda  135162\n",
              "4  indigena    1177"
            ]
          },
          "metadata": {
            "tags": []
          },
          "execution_count": 172
        }
      ]
    },
    {
      "cell_type": "markdown",
      "metadata": {
        "colab_type": "text",
        "id": "y16Z9zJJgHXo"
      },
      "source": [
        "### **Relações Escolaridade**"
      ]
    },
    {
      "cell_type": "code",
      "metadata": {
        "colab_type": "code",
        "id": "e3KB7hkigHYc",
        "colab": {}
      },
      "source": [
        "'''\n",
        "0-Sem escolaridade/Analfabeto\n",
        "1-Fundamental 1º ciclo\n",
        "(1ª a 5ª série)\n",
        "2-Fundamental 2º ciclo\n",
        "(6ª a 9ª série)\n",
        "3- Médio (1º ao 3º ano)\n",
        "4-Superior\n",
        "5-Não se aplica\n",
        "9-Ignorado\n",
        "'''\n",
        "\n",
        "dados_escolaridade = {\n",
        "    'escolaridade' : ['analfabeto ou sem escolaridade', 'fund1', 'fund2', 'medio', 'superior'],\n",
        "    'casos' : [dados.query(\"CS_ESCOL_N == '0'\").CS_ESCOL_N.value_counts().sum(), \n",
        "               dados.query(\"CS_ESCOL_N == '1'\").CS_ESCOL_N.value_counts().sum(), \n",
        "               dados.query(\"CS_ESCOL_N == '2'\").CS_ESCOL_N.value_counts().sum(), \n",
        "               dados.query(\"CS_ESCOL_N == '3'\").CS_ESCOL_N.value_counts().sum(), \n",
        "               dados.query(\"CS_ESCOL_N == '4'\").CS_ESCOL_N.value_counts().sum()]\n",
        "    }"
      ],
      "execution_count": 173,
      "outputs": []
    },
    {
      "cell_type": "code",
      "metadata": {
        "colab_type": "code",
        "id": "LDu6QKoSgHYk",
        "colab": {
          "base_uri": "https://localhost:8080/",
          "height": 85
        },
        "outputId": "a111be27-9ddc-4353-b45a-0450b5acde22"
      },
      "source": [
        "naoaplica = dados.query(\"CS_ESCOL_N == '5'\").CS_ESCOL_N.value_counts().sum()\n",
        "\n",
        "print('\\n numero de casos com espaço preenchido: ', \n",
        "      sum(dados_escolaridade['casos'], naoaplica), \n",
        "      '\\n numero de casos totais no estudo: ', \n",
        "      len(dados), \n",
        "      '\\n numero de casos com o espaço em branco/ignorado: ', \n",
        "      len(dados) - (sum(dados_escolaridade['casos'], naoaplica)))"
      ],
      "execution_count": 174,
      "outputs": [
        {
          "output_type": "stream",
          "text": [
            "\n",
            " numero de casos com espaço preenchido:  159303 \n",
            " numero de casos totais no estudo:  435717 \n",
            " numero de casos com o espaço em branco/ignorado:  276414\n"
          ],
          "name": "stdout"
        }
      ]
    },
    {
      "cell_type": "code",
      "metadata": {
        "colab_type": "code",
        "id": "zki_wdL9gHY9",
        "colab": {
          "base_uri": "https://localhost:8080/",
          "height": 320
        },
        "outputId": "01337481-655d-4e48-ee50-548afeb4255e"
      },
      "source": [
        "dados_escolaridadeBAR = sns.barplot(x='escolaridade', y='casos', data = dados_escolaridade, palette = \"GnBu_d\")\n",
        "dados_escolaridadeDF = pd.DataFrame(dados_escolaridade)\n",
        "dados_escolaridadePIE = plt.pie(dados_escolaridade['casos'], labels = dados_escolaridade['escolaridade'], shadow=True, \n",
        "                        radius=1.5, autopct='%.2f', textprops={'fontsize': 14, 'fontfamily': 'helvetica',\n",
        "                        'fontweight': 'ultralight', 'color': 'white'})"
      ],
      "execution_count": 175,
      "outputs": [
        {
          "output_type": "display_data",
          "data": {
            "image/png": "[encoded data removed]",
            "text/plain": [
              "<Figure size 432x288 with 1 Axes>"
            ]
          },
          "metadata": {
            "tags": []
          }
        }
      ]
    },
    {
      "cell_type": "code",
      "metadata": {
        "colab_type": "code",
        "id": "9QohyV2rgHZE",
        "colab": {
          "base_uri": "https://localhost:8080/",
          "height": 204
        },
        "outputId": "19db35e4-d30f-47da-e068-f58a0841f69c"
      },
      "source": [
        "dados_escolaridadeDF\n"
      ],
      "execution_count": 176,
      "outputs": [
        {
          "output_type": "execute_result",
          "data": {
            "text/html": [
              "<div>\n",
              "<style scoped>\n",
              "    .dataframe tbody tr th:only-of-type {\n",
              "        vertical-align: middle;\n",
              "    }\n",
              "\n",
              "    .dataframe tbody tr th {\n",
              "        vertical-align: top;\n",
              "    }\n",
              "\n",
              "    .dataframe thead th {\n",
              "        text-align: right;\n",
              "    }\n",
              "</style>\n",
              "<table border=\"1\" class=\"dataframe\">\n",
              "  <thead>\n",
              "    <tr style=\"text-align: right;\">\n",
              "      <th></th>\n",
              "      <th>escolaridade</th>\n",
              "      <th>casos</th>\n",
              "    </tr>\n",
              "  </thead>\n",
              "  <tbody>\n",
              "    <tr>\n",
              "      <th>0</th>\n",
              "      <td>analfabeto ou sem escolaridade</td>\n",
              "      <td>12208</td>\n",
              "    </tr>\n",
              "    <tr>\n",
              "      <th>1</th>\n",
              "      <td>fund1</td>\n",
              "      <td>39415</td>\n",
              "    </tr>\n",
              "    <tr>\n",
              "      <th>2</th>\n",
              "      <td>fund2</td>\n",
              "      <td>26090</td>\n",
              "    </tr>\n",
              "    <tr>\n",
              "      <th>3</th>\n",
              "      <td>medio</td>\n",
              "      <td>45314</td>\n",
              "    </tr>\n",
              "    <tr>\n",
              "      <th>4</th>\n",
              "      <td>superior</td>\n",
              "      <td>21796</td>\n",
              "    </tr>\n",
              "  </tbody>\n",
              "</table>\n",
              "</div>"
            ],
            "text/plain": [
              "                     escolaridade  casos\n",
              "0  analfabeto ou sem escolaridade  12208\n",
              "1                           fund1  39415\n",
              "2                           fund2  26090\n",
              "3                           medio  45314\n",
              "4                        superior  21796"
            ]
          },
          "metadata": {
            "tags": []
          },
          "execution_count": 176
        }
      ]
    },
    {
      "cell_type": "markdown",
      "metadata": {
        "colab_type": "text",
        "id": "ep1WmZpGHg3Q"
      },
      "source": [
        "### **Relações Raça-Escolaridade**\n"
      ]
    },
    {
      "cell_type": "code",
      "metadata": {
        "id": "-531gqXFL-mP",
        "colab_type": "code",
        "colab": {}
      },
      "source": [
        "preta_fund2 = dados.query(\"CS_RACA ==  '2' & CS_ESCOL_N == '2'\")\n",
        "preta_fund2"
      ],
      "execution_count": null,
      "outputs": []
    },
    {
      "cell_type": "markdown",
      "metadata": {
        "id": "WS-ADKiHO7NN",
        "colab_type": "text"
      },
      "source": [
        "### **Relações Óbito-Raça**"
      ]
    },
    {
      "cell_type": "code",
      "metadata": {
        "id": "9aiTi5E0PM_W",
        "colab_type": "code",
        "colab": {}
      },
      "source": [
        "obitos = dados.query(\"EVOLUCAO == '2'\")\n",
        "\n",
        "obitos_raca = {\n",
        "    'etnia' : ['branca', 'preta', 'amarela', 'parda', 'indigena'],\n",
        "    'obitos' : [obitos.query(\"CS_RACA ==  '1'\").CS_RACA.value_counts().sum(),\n",
        "                obitos.query(\"CS_RACA ==  '2'\").CS_RACA.value_counts().sum(),\n",
        "                obitos.query(\"CS_RACA ==  '3'\").CS_RACA.value_counts().sum(), \n",
        "                obitos.query(\"CS_RACA ==  '4'\").CS_RACA.value_counts().sum(), \n",
        "                obitos.query(\"CS_RACA ==  '5'\").CS_RACA.value_counts().sum()]\n",
        "    }"
      ],
      "execution_count": 178,
      "outputs": []
    },
    {
      "cell_type": "code",
      "metadata": {
        "id": "_pMkQ3TrPxeo",
        "colab_type": "code",
        "colab": {
          "base_uri": "https://localhost:8080/",
          "height": 85
        },
        "outputId": "23c7493b-0430-4344-b7b0-2ce1ab484f1c"
      },
      "source": [
        "\n",
        "print('\\n numero de casos com espaço preenchido: ', \n",
        "      sum(obitos_raca['obitos']), \n",
        "      '\\n numero de casos totais no estudo: ', \n",
        "      len(dados), \n",
        "      '\\n numero de casos com o espaço em branco: ', \n",
        "      len(dados) - sum(obitos_raca['obitos']))"
      ],
      "execution_count": 179,
      "outputs": [
        {
          "output_type": "stream",
          "text": [
            "\n",
            " numero de casos com espaço preenchido:  73527 \n",
            " numero de casos totais no estudo:  435717 \n",
            " numero de casos com o espaço em branco:  362190\n"
          ],
          "name": "stdout"
        }
      ]
    },
    {
      "cell_type": "code",
      "metadata": {
        "id": "u9iR62i5Xxlj",
        "colab_type": "code",
        "colab": {
          "base_uri": "https://localhost:8080/",
          "height": 327
        },
        "outputId": "8e6ca019-bc3f-48f0-f387-39e53f9f9975"
      },
      "source": [
        "#obitos_racaBAR = sns.barplot(x='etnia', y='obitos', data = obitos_raca, palette = \"GnBu_d\")\n",
        "obitos_racaDF = pd.DataFrame(obitos_raca)\n",
        "obitos_racaPIE = plt.pie(obitos_raca['obitos'], labels = obitos_raca['etnia'], shadow=True, \n",
        "                radius=1.5, autopct='%.2f', textprops={'fontsize': 14, 'fontfamily': 'helvetica', \n",
        "                'fontweight': 'ultralight', 'color': 'white'})"
      ],
      "execution_count": 180,
      "outputs": [
        {
          "output_type": "display_data",
          "data": {
            "image/png": "[encoded data removed]",
            "text/plain": [
              "<Figure size 432x288 with 1 Axes>"
            ]
          },
          "metadata": {
            "tags": []
          }
        }
      ]
    },
    {
      "cell_type": "code",
      "metadata": {
        "id": "PCYn0TVPYfMn",
        "colab_type": "code",
        "colab": {
          "base_uri": "https://localhost:8080/",
          "height": 204
        },
        "outputId": "7560065a-23ef-4a8a-a087-82292b00b5df"
      },
      "source": [
        "obitos_racaDF"
      ],
      "execution_count": 181,
      "outputs": [
        {
          "output_type": "execute_result",
          "data": {
            "text/html": [
              "<div>\n",
              "<style scoped>\n",
              "    .dataframe tbody tr th:only-of-type {\n",
              "        vertical-align: middle;\n",
              "    }\n",
              "\n",
              "    .dataframe tbody tr th {\n",
              "        vertical-align: top;\n",
              "    }\n",
              "\n",
              "    .dataframe thead th {\n",
              "        text-align: right;\n",
              "    }\n",
              "</style>\n",
              "<table border=\"1\" class=\"dataframe\">\n",
              "  <thead>\n",
              "    <tr style=\"text-align: right;\">\n",
              "      <th></th>\n",
              "      <th>etnia</th>\n",
              "      <th>obitos</th>\n",
              "    </tr>\n",
              "  </thead>\n",
              "  <tbody>\n",
              "    <tr>\n",
              "      <th>0</th>\n",
              "      <td>branca</td>\n",
              "      <td>30821</td>\n",
              "    </tr>\n",
              "    <tr>\n",
              "      <th>1</th>\n",
              "      <td>preta</td>\n",
              "      <td>5343</td>\n",
              "    </tr>\n",
              "    <tr>\n",
              "      <th>2</th>\n",
              "      <td>amarela</td>\n",
              "      <td>1102</td>\n",
              "    </tr>\n",
              "    <tr>\n",
              "      <th>3</th>\n",
              "      <td>parda</td>\n",
              "      <td>35912</td>\n",
              "    </tr>\n",
              "    <tr>\n",
              "      <th>4</th>\n",
              "      <td>indigena</td>\n",
              "      <td>349</td>\n",
              "    </tr>\n",
              "  </tbody>\n",
              "</table>\n",
              "</div>"
            ],
            "text/plain": [
              "      etnia  obitos\n",
              "0    branca   30821\n",
              "1     preta    5343\n",
              "2   amarela    1102\n",
              "3     parda   35912\n",
              "4  indigena     349"
            ]
          },
          "metadata": {
            "tags": []
          },
          "execution_count": 181
        }
      ]
    },
    {
      "cell_type": "markdown",
      "metadata": {
        "id": "OCyzIKQkm5F3",
        "colab_type": "text"
      },
      "source": [
        "### **Relações Óbito-Escolaridade**"
      ]
    },
    {
      "cell_type": "code",
      "metadata": {
        "id": "BHpmFiVPnQit",
        "colab_type": "code",
        "colab": {}
      },
      "source": [
        "obitos = dados.query(\"EVOLUCAO == '2'\")\n",
        "\n",
        "obitos_escolaridade = {\n",
        "    'escolaridade' : ['analfabeto ou sem escolaridade', 'fund1', 'fund2', 'medio', 'superior'],\n",
        "    'obitos' : [obitos.query(\"CS_ESCOL_N ==  '0'\").CS_ESCOL_N.value_counts().sum(),\n",
        "                obitos.query(\"CS_ESCOL_N ==  '1'\").CS_ESCOL_N.value_counts().sum(),\n",
        "                obitos.query(\"CS_ESCOL_N ==  '2'\").CS_ESCOL_N.value_counts().sum(), \n",
        "                obitos.query(\"CS_ESCOL_N ==  '3'\").CS_ESCOL_N.value_counts().sum(), \n",
        "                obitos.query(\"CS_ESCOL_N ==  '4'\").CS_ESCOL_N.value_counts().sum()]\n",
        "    }\n"
      ],
      "execution_count": 182,
      "outputs": []
    },
    {
      "cell_type": "code",
      "metadata": {
        "id": "FjTUE12an925",
        "colab_type": "code",
        "colab": {
          "base_uri": "https://localhost:8080/",
          "height": 85
        },
        "outputId": "f53bbe54-4737-4dd4-dc10-000ea628492e"
      },
      "source": [
        "print('\\n numero de casos com espaço preenchido: ', \n",
        "      sum(obitos_escolaridade['obitos']), \n",
        "      '\\n numero de casos totais no estudo: ', \n",
        "      len(dados), \n",
        "      '\\n numero de casos com os dois ou um espaço em branco: ', \n",
        "      len(dados) - sum(obitos_escolaridade['obitos']))"
      ],
      "execution_count": 183,
      "outputs": [
        {
          "output_type": "stream",
          "text": [
            "\n",
            " numero de casos com espaço preenchido:  33443 \n",
            " numero de casos totais no estudo:  435717 \n",
            " numero de casos com os dois ou um espaço em branco:  402274\n"
          ],
          "name": "stdout"
        }
      ]
    },
    {
      "cell_type": "code",
      "metadata": {
        "id": "ebFPKz76pvhz",
        "colab_type": "code",
        "colab": {
          "base_uri": "https://localhost:8080/",
          "height": 319
        },
        "outputId": "474497fc-05f9-4e63-93d7-f73fcc21680b"
      },
      "source": [
        "#obitos_escolaridadeBAR = sns.barplot(x='escolaridade', y='obitos', data = obitos_escolaridade, palette = \"GnBu_d\")\n",
        "obitos_escolaridadeDF = pd.DataFrame(obitos_escolaridade)\n",
        "obitos_escolaridadePIE = plt.pie(obitos_escolaridade['obitos'], labels = obitos_escolaridade['escolaridade'], shadow=True, \n",
        "                radius=1.5, autopct='%.2f', textprops={'fontsize': 14, 'fontfamily': 'helvetica', \n",
        "                'fontweight': 'ultralight', 'color': 'white'})"
      ],
      "execution_count": 184,
      "outputs": [
        {
          "output_type": "display_data",
          "data": {
            "image/png": "[encoded data removed]",
            "text/plain": [
              "<Figure size 432x288 with 1 Axes>"
            ]
          },
          "metadata": {
            "tags": []
          }
        }
      ]
    },
    {
      "cell_type": "code",
      "metadata": {
        "id": "-C51ziG8qLz7",
        "colab_type": "code",
        "colab": {
          "base_uri": "https://localhost:8080/",
          "height": 204
        },
        "outputId": "a567512d-a02c-4ef5-87b2-12d7d8183b66"
      },
      "source": [
        "obitos_escolaridadeDF"
      ],
      "execution_count": 185,
      "outputs": [
        {
          "output_type": "execute_result",
          "data": {
            "text/html": [
              "<div>\n",
              "<style scoped>\n",
              "    .dataframe tbody tr th:only-of-type {\n",
              "        vertical-align: middle;\n",
              "    }\n",
              "\n",
              "    .dataframe tbody tr th {\n",
              "        vertical-align: top;\n",
              "    }\n",
              "\n",
              "    .dataframe thead th {\n",
              "        text-align: right;\n",
              "    }\n",
              "</style>\n",
              "<table border=\"1\" class=\"dataframe\">\n",
              "  <thead>\n",
              "    <tr style=\"text-align: right;\">\n",
              "      <th></th>\n",
              "      <th>escolaridade</th>\n",
              "      <th>obitos</th>\n",
              "    </tr>\n",
              "  </thead>\n",
              "  <tbody>\n",
              "    <tr>\n",
              "      <th>0</th>\n",
              "      <td>analfabeto ou sem escolaridade</td>\n",
              "      <td>4275</td>\n",
              "    </tr>\n",
              "    <tr>\n",
              "      <th>1</th>\n",
              "      <td>fund1</td>\n",
              "      <td>11542</td>\n",
              "    </tr>\n",
              "    <tr>\n",
              "      <th>2</th>\n",
              "      <td>fund2</td>\n",
              "      <td>6698</td>\n",
              "    </tr>\n",
              "    <tr>\n",
              "      <th>3</th>\n",
              "      <td>medio</td>\n",
              "      <td>8124</td>\n",
              "    </tr>\n",
              "    <tr>\n",
              "      <th>4</th>\n",
              "      <td>superior</td>\n",
              "      <td>2804</td>\n",
              "    </tr>\n",
              "  </tbody>\n",
              "</table>\n",
              "</div>"
            ],
            "text/plain": [
              "                     escolaridade  obitos\n",
              "0  analfabeto ou sem escolaridade    4275\n",
              "1                           fund1   11542\n",
              "2                           fund2    6698\n",
              "3                           medio    8124\n",
              "4                        superior    2804"
            ]
          },
          "metadata": {
            "tags": []
          },
          "execution_count": 185
        }
      ]
    }
  ]
}